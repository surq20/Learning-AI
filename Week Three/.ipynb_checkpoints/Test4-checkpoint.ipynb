{
 "cells": [
  {
   "cell_type": "code",
   "execution_count": null,
   "id": "72065ea3",
   "metadata": {},
   "outputs": [],
   "source": [
    "import numpy as np\n",
    "from sklearn import linear_model\n",
    "import matplotlib.pyplot as plt\n",
    "# 1、载入数据\n",
    "data = np.genfromtxt('avgHgt.csv', delimiter=\",\")\n",
    "x_data = data[:,:-1]\n",
    "y_data = data[:,-1]\n",
    "print(x_data, y_data ,len(x_data))\n",
    "print(x_data, y_data)\n",
    "# 应用模型\n",
    "model = linear_model.LinearRegression()\n",
    "model.fit(x_data, y_data)\n",
    "print(\"系数w：\", model.coef_)\n",
    "print(\"偏置项b：\", model.intercept_)\n",
    "# 画3D图\n",
    "ax = plt.figure().add_subplot(111, projection='3d')\n",
    "ax.scatter(x_data[:, 0], x_data[:, 1], y_data, c='r', marker='o', s=100)  # 调参\n",
    "x0 = x_data[:, 0]\n",
    "x1 = x_data[:, 1]\n",
    "# 绘制网格矩阵\n",
    "x0, x1 = np.meshgrid(x0, x1)\n",
    "# 公式z=w*x0+w*x1+b\n",
    "z_data = model.intercept_ + x0*model.coef_[0] + x1*model.coef_[1]\n",
    "# 坐标轴以及标签\n",
    "ax.plot_surface(x0, x1, z_data)\n",
    "ax.set_xlabel('MathGrade')\n",
    "ax.set_ylabel('EnglishGrade')\n",
    "ax.set_zlabel('GPA')\n",
    "plt.show()"
   ]
  }
 ],
 "metadata": {
  "kernelspec": {
   "display_name": "Python 3 (ipykernel)",
   "language": "python",
   "name": "python3"
  },
  "language_info": {
   "codemirror_mode": {
    "name": "ipython",
    "version": 3
   },
   "file_extension": ".py",
   "mimetype": "text/x-python",
   "name": "python",
   "nbconvert_exporter": "python",
   "pygments_lexer": "ipython3",
   "version": "3.9.12"
  }
 },
 "nbformat": 4,
 "nbformat_minor": 5
}
