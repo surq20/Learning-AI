{
 "cells": [
  {
   "cell_type": "code",
   "execution_count": 1,
   "id": "589fc2d6",
   "metadata": {},
   "outputs": [
    {
     "ename": "SyntaxError",
     "evalue": "cannot assign to operator (664965514.py, line 9)",
     "output_type": "error",
     "traceback": [
      "\u001b[1;36m  Input \u001b[1;32mIn [1]\u001b[1;36m\u001b[0m\n\u001b[1;33m    X-train, X_test, y-train, y-test = train_test_split(X, y, test_size = 0.2, random_state = 5)\u001b[0m\n\u001b[1;37m    ^\u001b[0m\n\u001b[1;31mSyntaxError\u001b[0m\u001b[1;31m:\u001b[0m cannot assign to operator\n"
     ]
    }
   ],
   "source": [
    "from sklearn import datasets\n",
    "from sklearn.model_selection import train_test_split\n",
    "import matplotlib.pyplot as plt\n",
    "\n",
    "iris = datasets.load_iris()\n",
    "X = iris[\"data\"][:, (2, 3)]\n",
    "y = iris.target\n",
    "print(X)\n",
    "X-train, X_test, y-train, y-test = train_test_split(X, y, test_size = 0.2, random_state = 5)\n",
    "\n",
    "plt.figure(1)\n",
    "plt.axis([0, 7, 0, 3])\n",
    "plt.plot(X_train[:, 0][y_train == 0], X_train[:, 1][y_train == 0], \"bs\", ms = 3)\n",
    "plt.plot(X_train[:, 0][y_train == 1], X_train[:, 1][y_train == 1], \"yo\", ms = 3)\n",
    "plt.plot(X_train[:, 0][y_train == 2], X_train[:, 1][y_train == 2], \"r*\", ms = 3)\n",
    "plt.show()"
   ]
  }
 ],
 "metadata": {
  "kernelspec": {
   "display_name": "Python 3 (ipykernel)",
   "language": "python",
   "name": "python3"
  },
  "language_info": {
   "codemirror_mode": {
    "name": "ipython",
    "version": 3
   },
   "file_extension": ".py",
   "mimetype": "text/x-python",
   "name": "python",
   "nbconvert_exporter": "python",
   "pygments_lexer": "ipython3",
   "version": "3.9.12"
  }
 },
 "nbformat": 4,
 "nbformat_minor": 5
}
