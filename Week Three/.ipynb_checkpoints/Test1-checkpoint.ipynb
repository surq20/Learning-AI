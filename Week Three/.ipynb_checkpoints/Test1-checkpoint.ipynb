{
 "cells": [
  {
   "cell_type": "code",
   "execution_count": null,
   "id": "3191997a",
   "metadata": {},
   "outputs": [],
   "source": [
    "import matplotlib.pyplot as plt\n",
    "\n",
    "data1 = [1, 2, 3, 4, 5, 6, 7, 8]\n",
    "data2 = [1, 4, 9, 16, 25, 36, 49, 64]\n",
    "data3 = [1, 3, 6, 10, 15, 21, 28, 36]\n",
    "data4 = [1, 7, 15, 26, 40, 57, 77, 100]\n",
    "\n",
    "seq = [1, 2, 3, 4, 5, 6, 7, 8]\n",
    "\n",
    "plt.plot(seq, data1, \"-*\", seq, data2, \"-o\", seq, data3, \"-^\", seq, data4, \"-s\")\n",
    "plt.title(\"Test Chart\", fontsize = 24)\n",
    "plt.xlabel(\"x-value\", fontsize = 14)\n",
    "plt.ylabel(\"y-value\", fontsize = 14)"
   ]
  }
 ],
 "metadata": {
  "kernelspec": {
   "display_name": "Python 3 (ipykernel)",
   "language": "python",
   "name": "python3"
  },
  "language_info": {
   "codemirror_mode": {
    "name": "ipython",
    "version": 3
   },
   "file_extension": ".py",
   "mimetype": "text/x-python",
   "name": "python",
   "nbconvert_exporter": "python",
   "pygments_lexer": "ipython3",
   "version": "3.9.12"
  }
 },
 "nbformat": 4,
 "nbformat_minor": 5
}
