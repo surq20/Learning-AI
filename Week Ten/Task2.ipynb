{
 "cells": [
  {
   "cell_type": "code",
   "execution_count": 1,
   "id": "f070fb02",
   "metadata": {},
   "outputs": [],
   "source": [
    "from sklearn.ensemble import RandomForestRegressor\n",
    "from sklearn.tree import DecisionTreeRegressor\n",
    "import numpy as py \n",
    "import pandas as pd \n",
    "from sklearn.datasets import make_moons\n",
    "from sklearn.model_selection import train_test_split\n",
    "from sklearn.ensemble import GradientBoostingClassifier\n",
    "from xgboost import XGBClassifier\n",
    "from sklearn.metrics import accuracy_score, precision_score, r2_score\n",
    "from sklearn.metrics import accuracy_score\n",
    "from sklearn.metrics import precision_score"
   ]
  },
  {
   "cell_type": "code",
   "execution_count": 2,
   "id": "2be2b816",
   "metadata": {},
   "outputs": [
    {
     "name": "stdout",
     "output_type": "stream",
     "text": [
      "tree accuracy_score = 0.56\n",
      "tree precision_score = 0.56\n",
      "tree r2 = 0.7721855442029912\n"
     ]
    }
   ],
   "source": [
    "X, y = make_moons(n_samples=1000, noise=0.1)\n",
    "X_train, X_test, y_train, y_test = train_test_split(X, y, test_size = 0.2, random_state = 0)\n",
    "tree = DecisionTreeRegressor(max_depth = 2)\n",
    "tree.fit(X_train, y_train)\n",
    "y_pred = tree.predict(X_test)\n",
    "r2 = r2_score(y_test, y_pred)\n",
    "accuracy_score = accuracy_score(y_test.astype(int), y_pred.astype(int))\n",
    "precision_score = precision_score(y_test.astype(int), y_pred.astype(int))\n",
    "print(\"tree accuracy_score = {}\".format(accuracy_score))\n",
    "print(\"tree precision_score = {}\".format(accuracy_score))\n",
    "print(\"tree r2 = {}\".format(r2))"
   ]
  },
  {
   "cell_type": "code",
   "execution_count": 3,
   "id": "f1797158",
   "metadata": {},
   "outputs": [
    {
     "name": "stdout",
     "output_type": "stream",
     "text": [
      "forest accuracy_score = 0.535\n",
      "forest precision_score = 0.0\n",
      "forest r2 = 0.8104382023339499\n"
     ]
    },
    {
     "name": "stderr",
     "output_type": "stream",
     "text": [
      "C:\\ToolSoftware\\Anaconda\\lib\\site-packages\\sklearn\\metrics\\_classification.py:1318: UndefinedMetricWarning: Precision is ill-defined and being set to 0.0 due to no predicted samples. Use `zero_division` parameter to control this behavior.\n",
      "  _warn_prf(average, modifier, msg_start, len(result))\n"
     ]
    }
   ],
   "source": [
    "from sklearn.metrics import accuracy_score\n",
    "from sklearn.metrics import precision_score\n",
    "forest = RandomForestRegressor(max_depth = 2, n_estimators = 50)\n",
    "forest.fit(X_train, y_train)\n",
    "y_pred = forest.predict(X_test)\n",
    "r2 = r2_score(y_test, y_pred)\n",
    "accuracy = accuracy_score(y_test.astype(int), y_pred.astype(int))\n",
    "precision = precision_score(y_test.astype(int), y_pred.astype(int))\n",
    "print(\"forest accuracy_score = {}\".format(accuracy))\n",
    "print(\"forest precision_score = {}\".format(precision))\n",
    "print(\"forest r2 = {}\".format(r2))"
   ]
  },
  {
   "cell_type": "code",
   "execution_count": 4,
   "id": "76071151",
   "metadata": {},
   "outputs": [
    {
     "name": "stdout",
     "output_type": "stream",
     "text": [
      "xgboost r2 = 0.9799015174354336\n",
      "xgboost accuracy_score = 0.995\n",
      "xgboost precision_score = 0.9893617021276596\n"
     ]
    }
   ],
   "source": [
    "xgboost = XGBClassifier(max_depth = 2, n_estimators = 50)\n",
    "xgboost.fit(X_train, y_train.astype(int))\n",
    "y_pred = xgboost.predict(X_test)\n",
    "r2 = r2_score(y_test, y_pred)\n",
    "accuracy = accuracy_score(y_test.astype(int), y_pred)\n",
    "precision = precision_score(y_test.astype(int), y_pred.astype(int))\n",
    "print(\"xgboost r2 = {}\".format(r2))\n",
    "print(\"xgboost accuracy_score = {}\".format(accuracy))\n",
    "print(\"xgboost precision_score = {}\".format(precision))"
   ]
  }
 ],
 "metadata": {
  "kernelspec": {
   "display_name": "Python 3 (ipykernel)",
   "language": "python",
   "name": "python3"
  },
  "language_info": {
   "codemirror_mode": {
    "name": "ipython",
    "version": 3
   },
   "file_extension": ".py",
   "mimetype": "text/x-python",
   "name": "python",
   "nbconvert_exporter": "python",
   "pygments_lexer": "ipython3",
   "version": "3.9.12"
  }
 },
 "nbformat": 4,
 "nbformat_minor": 5
}
