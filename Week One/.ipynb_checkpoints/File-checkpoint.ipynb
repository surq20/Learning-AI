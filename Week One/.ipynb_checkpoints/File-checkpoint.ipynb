{
 "cells": [
  {
   "cell_type": "code",
   "execution_count": 9,
   "id": "872e104c",
   "metadata": {},
   "outputs": [
    {
     "name": "stdout",
     "output_type": "stream",
     "text": [
      "fruit_labe\n",
      "1\tapple\tgr\n",
      "1\tapple\tgr\n",
      "1\tapple\tgr\n",
      "2\tmandarin\n",
      "2\tmandarin\n",
      "2\tmandarin\n",
      "2\tmandarin\n",
      "2\tmandarin\n",
      "1\tapple\tbr\n",
      "1\tapple\tbr\n",
      "1\tapple\tbr\n",
      "1\tapple\tbr\n",
      "1\tapple\tbr\n",
      "1\tapple\tgo\n",
      "1\tapple\tgo\n",
      "1\tapple\tgo\n",
      "1\tapple\tgo\n",
      "1\tapple\tgo\n",
      "1\tapple\tcr\n",
      "1\tapple\tcr\n",
      "1\tapple\tcr\n",
      "1\tapple\tcr\n",
      "1\tapple\tcr\n",
      "1\tapple\tcr\n",
      "3\torange\ts\n",
      "3\torange\ts\n",
      "3\torange\ts\n",
      "3\torange\ts\n",
      "3\torange\ts\n",
      "3\torange\ts\n",
      "3\torange\ts\n",
      "3\torange\ts\n",
      "3\torange\ts\n",
      "3\torange\tt\n",
      "3\torange\tt\n",
      "3\torange\tt\n",
      "3\torange\tt\n",
      "3\torange\tt\n",
      "3\torange\tt\n",
      "3\torange\tt\n",
      "3\torange\tt\n",
      "3\torange\tt\n",
      "3\torange\tt\n",
      "4\tlemon\tsp\n",
      "4\tlemon\tsp\n",
      "4\tlemon\tsp\n",
      "4\tlemon\tsp\n",
      "4\tlemon\tsp\n",
      "4\tlemon\tsp\n",
      "4\tlemon\tun\n",
      "4\tlemon\tun\n",
      "4\tlemon\tun\n",
      "4\tlemon\tun\n",
      "4\tlemon\tun\n",
      "4\tlemon\tun\n",
      "4\tlemon\tun\n",
      "4\tlemon\tun\n",
      "4\tlemon\tun\n",
      "4\tlemon\tun\n"
     ]
    }
   ],
   "source": [
    "import numpy as np\n",
    "\n",
    "with open(\"fruit_data_with_colors.txt\") as f:\n",
    "    for line in f:\n",
    "        print(line)"
   ]
  },
  {
   "cell_type": "code",
   "execution_count": null,
   "id": "f42a3478",
   "metadata": {},
   "outputs": [],
   "source": []
  }
 ],
 "metadata": {
  "kernelspec": {
   "display_name": "Python 3 (ipykernel)",
   "language": "python",
   "name": "python3"
  },
  "language_info": {
   "codemirror_mode": {
    "name": "ipython",
    "version": 3
   },
   "file_extension": ".py",
   "mimetype": "text/x-python",
   "name": "python",
   "nbconvert_exporter": "python",
   "pygments_lexer": "ipython3",
   "version": "3.9.12"
  }
 },
 "nbformat": 4,
 "nbformat_minor": 5
}
