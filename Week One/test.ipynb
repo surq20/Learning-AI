{
 "cells": [
  {
   "cell_type": "code",
   "execution_count": 1,
   "id": "e6ceefd2",
   "metadata": {},
   "outputs": [
    {
     "name": "stdout",
     "output_type": "stream",
     "text": [
      "National\n"
     ]
    }
   ],
   "source": [
    "import numpy as np\n",
    "a = \"the National Day\"\n",
    "print(a[4:12])"
   ]
  },
  {
   "cell_type": "code",
   "execution_count": 2,
   "id": "37cd8b3c",
   "metadata": {},
   "outputs": [
    {
     "name": "stdout",
     "output_type": "stream",
     "text": [
      "National\n"
     ]
    }
   ],
   "source": [
    "import numpy as np\n",
    "b = [\"the\", \"National\", \"Day\"]\n",
    "print(b[1])\n"
   ]
  },
  {
   "cell_type": "code",
   "execution_count": 11,
   "id": "ba3ef34b",
   "metadata": {},
   "outputs": [
    {
     "name": "stdout",
     "output_type": "stream",
     "text": [
      "(['Today', '1', 'the'], 'National', 'Day')\n"
     ]
    }
   ],
   "source": [
    "import numpy as np\n",
    "tpl = ([\"10.1\", \"1\", \"the\"], \"National\", \"Day\")\n",
    "tpl[0][0] = \"Today\"\n",
    "print(tpl)"
   ]
  },
  {
   "cell_type": "code",
   "execution_count": 10,
   "id": "948acfd9",
   "metadata": {},
   "outputs": [
    {
     "name": "stdout",
     "output_type": "stream",
     "text": [
      "{'name': 'J Hotel', 'count': '36', 'price': 162}\n"
     ]
    }
   ],
   "source": [
    "import numpy as np\n",
    "Hotel= {\"name\": \"J Hotel\", \"count\": 35, \"price\": 162}\n",
    "Hotel[\"count\"] = \"36\"\n",
    "print(Hotel)"
   ]
  },
  {
   "cell_type": "code",
   "execution_count": 12,
   "id": "545dcfb8",
   "metadata": {},
   "outputs": [
    {
     "name": "stdout",
     "output_type": "stream",
     "text": [
      "False\n"
     ]
    }
   ],
   "source": [
    "import numpy as np\n",
    "Htls = set((\"A Hotel\", \"B Hotel\", \"C Hotel\"))\n",
    "print(\"E Hotel\" in Htls)"
   ]
  },
  {
   "cell_type": "code",
   "execution_count": null,
   "id": "e1e404bf",
   "metadata": {},
   "outputs": [],
   "source": []
  }
 ],
 "metadata": {
  "kernelspec": {
   "display_name": "Python 3 (ipykernel)",
   "language": "python",
   "name": "python3"
  },
  "language_info": {
   "codemirror_mode": {
    "name": "ipython",
    "version": 3
   },
   "file_extension": ".py",
   "mimetype": "text/x-python",
   "name": "python",
   "nbconvert_exporter": "python",
   "pygments_lexer": "ipython3",
   "version": "3.9.12"
  }
 },
 "nbformat": 4,
 "nbformat_minor": 5
}
