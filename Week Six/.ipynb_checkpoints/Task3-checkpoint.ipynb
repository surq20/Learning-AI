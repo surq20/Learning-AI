{
 "cells": [
  {
   "cell_type": "code",
   "execution_count": 1,
   "id": "987f1869",
   "metadata": {},
   "outputs": [
    {
     "name": "stdout",
     "output_type": "stream",
     "text": [
      "data shape: (569, 30); positive: (357,), negative: (212,)\n",
      "腺癌数据的前两行为：\n",
      "[[1.799e+01 1.038e+01 1.228e+02 1.001e+03 1.184e-01 2.776e-01 3.001e-01\n",
      "  1.471e-01 2.419e-01 7.871e-02 1.095e+00 9.053e-01 8.589e+00 1.534e+02\n",
      "  6.399e-03 4.904e-02 5.373e-02 1.587e-02 3.003e-02 6.193e-03 2.538e+01\n",
      "  1.733e+01 1.846e+02 2.019e+03 1.622e-01 6.656e-01 7.119e-01 2.654e-01\n",
      "  4.601e-01 1.189e-01]\n",
      " [2.057e+01 1.777e+01 1.329e+02 1.326e+03 8.474e-02 7.864e-02 8.690e-02\n",
      "  7.017e-02 1.812e-01 5.667e-02 5.435e-01 7.339e-01 3.398e+00 7.408e+01\n",
      "  5.225e-03 1.308e-02 1.860e-02 1.340e-02 1.389e-02 3.532e-03 2.499e+01\n",
      "  2.341e+01 1.588e+02 1.956e+03 1.238e-01 1.866e-01 2.416e-01 1.860e-01\n",
      "  2.750e-01 8.902e-02]]\n"
     ]
    }
   ],
   "source": [
    "from sklearn.datasets import load_breast_cancer\n",
    "cancer = load_breast_cancer()\n",
    "X = cancer.data\n",
    "y = cancer.target\n",
    "print(\"data shape: {0}; positive: {1}, negative: {2}\".format(X.shape, y[y==1].shape, y[y==0].shape))\n",
    "print(\"腺癌数据的前两行为：\")\n",
    "print(cancer.data[0: 2])"
   ]
  },
  {
   "cell_type": "code",
   "execution_count": 2,
   "id": "11747618",
   "metadata": {},
   "outputs": [
    {
     "name": "stdout",
     "output_type": "stream",
     "text": [
      "腺癌特征有：\n"
     ]
    }
   ],
   "source": [
    "print(\"腺癌特征有：\")"
   ]
  },
  {
   "cell_type": "code",
   "execution_count": 3,
   "id": "06181dfc",
   "metadata": {},
   "outputs": [],
   "source": [
    "from sklearn.model_selection import train_test_split\n",
    "X_train, X_test, y_train, y_test = train_test_split(X, y, test_size = 0.2)"
   ]
  },
  {
   "cell_type": "code",
   "execution_count": 4,
   "id": "55acc1e3",
   "metadata": {},
   "outputs": [
    {
     "name": "stdout",
     "output_type": "stream",
     "text": [
      "train score: 0.945054945054945; test score0.9298245614035088\n"
     ]
    },
    {
     "name": "stderr",
     "output_type": "stream",
     "text": [
      "C:\\ToolSoftware\\Anaconda\\lib\\site-packages\\sklearn\\linear_model\\_logistic.py:814: ConvergenceWarning: lbfgs failed to converge (status=1):\n",
      "STOP: TOTAL NO. of ITERATIONS REACHED LIMIT.\n",
      "\n",
      "Increase the number of iterations (max_iter) or scale the data as shown in:\n",
      "    https://scikit-learn.org/stable/modules/preprocessing.html\n",
      "Please also refer to the documentation for alternative solver options:\n",
      "    https://scikit-learn.org/stable/modules/linear_model.html#logistic-regression\n",
      "  n_iter_i = _check_optimize_result(\n"
     ]
    }
   ],
   "source": [
    "from sklearn.linear_model import LogisticRegression\n",
    "model = LogisticRegression()\n",
    "model.fit(X_train, y_train)\n",
    "train_score = model.score(X_train, y_train)\n",
    "test_score = model.score(X_test, y_test)\n",
    "print(\"train score: {0}; test score{1}\".format(train_score, test_score))"
   ]
  },
  {
   "cell_type": "code",
   "execution_count": 5,
   "id": "d87584a3",
   "metadata": {},
   "outputs": [
    {
     "name": "stdout",
     "output_type": "stream",
     "text": [
      "预测正确的样本数/测试集总数\n",
      "match: 114/114\n"
     ]
    }
   ],
   "source": [
    "import numpy as np\n",
    "y_pred = model.predict(X_test)\n",
    "print(\"预测正确的样本数/测试集总数\")\n",
    "print(\"match: {}/{}\".format(np.equal(y_pred, y_test).shape[0], y_test.shape[0]))"
   ]
  },
  {
   "cell_type": "code",
   "execution_count": 6,
   "id": "40ebadee",
   "metadata": {},
   "outputs": [
    {
     "name": "stdout",
     "output_type": "stream",
     "text": [
      "预测概率输出形式\n",
      "sample of predict probability: [9.99995302e-01 4.69815343e-06]\n",
      "所有预测概率低于0.9的样本:\n"
     ]
    },
    {
     "data": {
      "text/plain": [
       "array([[0.36668939, 0.63331061],\n",
       "       [0.2455018 , 0.7544982 ],\n",
       "       [0.25162282, 0.74837718],\n",
       "       [0.17459178, 0.82540822],\n",
       "       [0.16092947, 0.83907053],\n",
       "       [0.5861497 , 0.4138503 ],\n",
       "       [0.32021093, 0.67978907],\n",
       "       [0.17022042, 0.82977958],\n",
       "       [0.11190842, 0.88809158],\n",
       "       [0.1373753 , 0.8626247 ],\n",
       "       [0.85089107, 0.14910893],\n",
       "       [0.69753044, 0.30246956],\n",
       "       [0.86849337, 0.13150663],\n",
       "       [0.1538312 , 0.8461688 ],\n",
       "       [0.78855844, 0.21144156]])"
      ]
     },
     "execution_count": 6,
     "metadata": {},
     "output_type": "execute_result"
    }
   ],
   "source": [
    "print(\"预测概率输出形式\")\n",
    "y_pred_proba = model.predict_proba(X_test)\n",
    "print(\"sample of predict probability: {0}\".format(y_pred_proba[0]))\n",
    "result = y_pred_proba[y_pred_proba[:, 0] > 0.1]\n",
    "result = result[result[:, 1] > 0.1]\n",
    "print(\"所有预测概率低于0.9的样本:\")\n",
    "result"
   ]
  }
 ],
 "metadata": {
  "kernelspec": {
   "display_name": "Python 3 (ipykernel)",
   "language": "python",
   "name": "python3"
  },
  "language_info": {
   "codemirror_mode": {
    "name": "ipython",
    "version": 3
   },
   "file_extension": ".py",
   "mimetype": "text/x-python",
   "name": "python",
   "nbconvert_exporter": "python",
   "pygments_lexer": "ipython3",
   "version": "3.9.12"
  }
 },
 "nbformat": 4,
 "nbformat_minor": 5
}
