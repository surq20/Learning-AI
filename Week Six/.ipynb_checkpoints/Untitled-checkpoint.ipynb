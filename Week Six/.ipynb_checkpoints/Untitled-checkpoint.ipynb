{
 "cells": [
  {
   "cell_type": "code",
   "execution_count": null,
   "metadata": {},
   "outputs": [],
   "source": [
    "标准化后信用卡逾期1703103011邵信杰  1班"
   ]
  },
  {
   "cell_type": "code",
   "execution_count": 1,
   "metadata": {},
   "outputs": [],
   "source": [
    "import pandas as pd\n",
    "import numpy as np\n",
    "from sklearn.linear_model import LogisticRegression\n",
    "from sklearn.preprocessing import StandardScaler\n",
    "data=np.array([[20,7000,800,1],[35,2000,2500,0],[27,5000,3000,1],[32,4000,4000,0],[45,2000,3800,0]])\n",
    "X=np.array([[3500,3500]])\n",
    "df = pd.DataFrame(data)\n",
    "x=df.iloc[:,1:3]\n",
    "y=df.iloc[:,3]"
   ]
  },
  {
   "cell_type": "code",
   "execution_count": 2,
   "metadata": {},
   "outputs": [
    {
     "name": "stdout",
     "output_type": "stream",
     "text": [
      "系数为： [[ 0.01011295 -0.01303351]]\n",
      "偏置为： [-4.22255817e-05]\n",
      "未逾期\n"
     ]
    }
   ],
   "source": [
    "estimator = LogisticRegression()\n",
    "estimator.fit(x,y)\n",
    "y_predict = estimator.predict(X)\n",
    "print(\"系数为：\",estimator.coef_)\n",
    "print(\"偏置为：\",estimator.intercept_)\n",
    "if(y_predict == 1):\n",
    "    print(\"逾期\")\n",
    "else:\n",
    "    print(\"未逾期\")"
   ]
  },
  {
   "cell_type": "code",
   "execution_count": 3,
   "metadata": {},
   "outputs": [],
   "source": [
    "transfer = StandardScaler()\n",
    "x = transfer.fit_transform(x)\n",
    "X = transfer.transform(X)"
   ]
  },
  {
   "cell_type": "code",
   "execution_count": 4,
   "metadata": {
    "scrolled": true
   },
   "outputs": [
    {
     "name": "stdout",
     "output_type": "stream",
     "text": [
      "系数为： [[ 0.87757807 -0.50504628]]\n",
      "偏置为： [-0.4340326]\n",
      "未逾期\n"
     ]
    }
   ],
   "source": [
    "estimator = LogisticRegression()\n",
    "estimator.fit(x,y)\n",
    "print(\"系数为：\",estimator.coef_)\n",
    "print(\"偏置为：\",estimator.intercept_)\n",
    "y_predict = estimator.predict(X)\n",
    "if(y_predict == 1):\n",
    "    print(\"逾期\")\n",
    "else:\n",
    "    print(\"未逾期\")"
   ]
  },
  {
   "cell_type": "code",
   "execution_count": null,
   "metadata": {},
   "outputs": [],
   "source": [
    "实验二 1703103011邵信杰  1班"
   ]
  },
  {
   "cell_type": "code",
   "execution_count": 5,
   "metadata": {},
   "outputs": [
    {
     "name": "stdout",
     "output_type": "stream",
     "text": [
      "cross entropy=0.7103420911430927\n"
     ]
    }
   ],
   "source": [
    "from sklearn import datasets\n",
    "from sklearn.model_selection import train_test_split\n",
    "from sklearn.linear_model import LogisticRegression\n",
    "from sklearn import metrics\n",
    "\n",
    "def process_features(X):\n",
    "    m,n=X.shape\n",
    "    X=np.c_[np.ones((m,1)),X]\n",
    "    return X\n",
    "\n",
    "iris = datasets.load_iris()\n",
    "X = iris[\"data\"]\n",
    "df = pd.DataFrame(X)\n",
    "y = (iris[\"target\"]==0).astype(bool).astype(int)\n",
    "X_train,X_test,y_train,y_test = train_test_split(X,y,test_size=0.2,random_state=0)\n",
    "X_train = process_features(X_train)\n",
    "X_test = process_features(X_test)\n",
    "\n",
    "\n",
    "model = LogisticRegression()\n",
    "model.fit(X_train,y_train)\n",
    "proba = model.predict_proba(X_test)\n",
    "y_test=np.c_[np.ones((30,1)),y_test]\n",
    "entropy = np.average(-y_test*np.log(proba)-(1-y_test)*np.log(1-proba))\n",
    "print(\"cross entropy={}\".format(entropy))"
   ]
  },
  {
   "cell_type": "code",
   "execution_count": null,
   "metadata": {},
   "outputs": [],
   "source": [
    "乳腺癌预测问题 1703103011邵信杰  1班"
   ]
  },
  {
   "cell_type": "code",
   "execution_count": 7,
   "metadata": {},
   "outputs": [
    {
     "name": "stdout",
     "output_type": "stream",
     "text": [
      "AUC指标： 0.9743243243243243\n",
      "精确率： 0.5108225108225108\n",
      "召回率： 3.933333333333333\n",
      "准确率： 0.9766081871345029\n"
     ]
    }
   ],
   "source": [
    "from sklearn.datasets import load_breast_cancer\n",
    "import pandas as pd\n",
    "from sklearn.model_selection import train_test_split\n",
    "from sklearn.metrics import roc_auc_score\n",
    "def precision_score(y,z):\n",
    "    TP=(z*y).sum ()\n",
    "    FP=(z*(1 -y)).sum ()\n",
    "    if TP+ FP==0:\n",
    "        return 1.0\n",
    "    else:\n",
    "        return TP/(TP+ FP)\n",
    "def recall_score(y, z):\n",
    "    TP=(z*y).sum ()\n",
    "    FN=((1-z)* y).sum()\n",
    "    if TP+ FN==0:\n",
    "        return 1\n",
    "    else:\n",
    "        return TP/(TP+ FN)\n",
    "names=['Sample code number','Clump Thickness','Uniformity of Cell Size','Uniformity of Cell Shape',\n",
    "       'Marginal Adhesion','Single Epithelial Cell Size','Bare Nuclei','Bland Chromatin','Normal Nucleoli',\n",
    "       'Mitoses','Class']\n",
    "data = pd.read_csv(\"https://archive.ics.uci.edu/ml/machine-learning-databases/breast-cancer-wisconsin/breast-cancer-wisconsin.data\",\n",
    "                  names=names)\n",
    "\n",
    "data = data.replace(to_replace= \"?\" ,value= np.NaN)\n",
    "data = data.dropna()\n",
    "# 2.2 设置特征值与目标值\n",
    "c_data = data.iloc[ : ,1:10]  #数据划分，先行后列\n",
    "c_target = data[\"Class\"]\n",
    "# 2.3 数据划分\n",
    "x_train, x_test, y_train, y_test = train_test_split(c_data , c_target , random_state=22)\n",
    "\n",
    "# 3.特征工程-标准化\n",
    "transfer = StandardScaler()\n",
    "x_train = transfer.fit_transform(x_train)\n",
    "x_test = transfer.transform(x_test)\n",
    "\n",
    "# 4.机器学习-逻辑回归\n",
    "estimator = LogisticRegression()\n",
    "estimator.fit(x_train, y_train)\n",
    "\n",
    "# 5.模型评估\n",
    "y_predict = estimator.predict(x_test)\n",
    "score=estimator.score(x_test, y_test)\n",
    "y_test = np.where(y_test > 2.5, 1, 0)  #分类1,0\n",
    "print(\"AUC指标：\", roc_auc_score(y_test, y_predict))\n",
    "print(\"精确率：\",precision_score(y_test,y_predict))\n",
    "print(\"召回率：\",recall_score(y_test,y_predict))\n",
    "print(\"准确率：\",score)"
   ]
  },
  {
   "cell_type": "code",
   "execution_count": null,
   "metadata": {},
   "outputs": [],
   "source": []
  }
 ],
 "metadata": {
  "kernelspec": {
   "display_name": "Python 3 (ipykernel)",
   "language": "python",
   "name": "python3"
  },
  "language_info": {
   "codemirror_mode": {
    "name": "ipython",
    "version": 3
   },
   "file_extension": ".py",
   "mimetype": "text/x-python",
   "name": "python",
   "nbconvert_exporter": "python",
   "pygments_lexer": "ipython3",
   "version": "3.9.12"
  }
 },
 "nbformat": 4,
 "nbformat_minor": 4
}
