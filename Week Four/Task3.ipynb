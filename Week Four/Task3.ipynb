{
 "cells": [
  {
   "cell_type": "code",
   "execution_count": 1,
   "id": "a4ed39ae",
   "metadata": {},
   "outputs": [],
   "source": [
    "import numpy as np\n",
    "import pandas as pd\n",
    "import matplotlib.pyplot as plt\n",
    "from sklearn.datasets import load_diabetes  \n",
    "data_diabetes = load_diabetes()"
   ]
  },
  {
   "cell_type": "code",
   "execution_count": 2,
   "id": "354a976e",
   "metadata": {},
   "outputs": [],
   "source": [
    "data =  data_diabetes['data']\n",
    "target = data_diabetes['target']\n",
    "feature_names = data_diabetes['feature_names']"
   ]
  },
  {
   "cell_type": "code",
   "execution_count": 3,
   "id": "335dc9f5",
   "metadata": {},
   "outputs": [],
   "source": [
    "df =  pd.DataFrame(data,columns = feature_names)"
   ]
  },
  {
   "cell_type": "code",
   "execution_count": 4,
   "id": "0db8194e",
   "metadata": {},
   "outputs": [
    {
     "data": {
      "text/plain": [
       "0.5534995974577286"
      ]
     },
     "execution_count": 4,
     "metadata": {},
     "output_type": "execute_result"
    }
   ],
   "source": [
    "from sklearn.model_selection import train_test_split\n",
    "train_X,test_X,train_Y,test_Y =  train_test_split(data,target,train_size =0.8)\n",
    "\n",
    "from sklearn.linear_model import LinearRegression\n",
    "model = LinearRegression()\n",
    " \n",
    "model.fit(train_X,train_Y)\n",
    "LinearRegression(copy_X=True, fit_intercept=True, n_jobs=1, normalize=False)\n",
    " \n",
    "model.score(train_X,train_Y)"
   ]
  }
 ],
 "metadata": {
  "kernelspec": {
   "display_name": "Python 3 (ipykernel)",
   "language": "python",
   "name": "python3"
  },
  "language_info": {
   "codemirror_mode": {
    "name": "ipython",
    "version": 3
   },
   "file_extension": ".py",
   "mimetype": "text/x-python",
   "name": "python",
   "nbconvert_exporter": "python",
   "pygments_lexer": "ipython3",
   "version": "3.9.12"
  }
 },
 "nbformat": 4,
 "nbformat_minor": 5
}
