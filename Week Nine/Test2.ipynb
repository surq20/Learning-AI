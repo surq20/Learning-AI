{
 "cells": [
  {
   "cell_type": "code",
   "execution_count": 1,
   "id": "1501dc26",
   "metadata": {},
   "outputs": [],
   "source": [
    "import pandas as pd\n",
    "import sklearn.tree as st\n",
    "from sklearn.tree import export_graphviz"
   ]
  },
  {
   "cell_type": "code",
   "execution_count": 2,
   "id": "0e5bd7a0",
   "metadata": {},
   "outputs": [
    {
     "name": "stdout",
     "output_type": "stream",
     "text": [
      "0    1\n",
      "1    1\n",
      "2    1\n",
      "3    1\n",
      "4    0\n",
      "5    0\n",
      "6    0\n",
      "7    0\n",
      "Name: is_date, dtype: int64\n",
      "   height  house  car  handsome  job\n",
      "0    1.80      1    0       6.5    2\n",
      "1    1.62      1    0       5.5    0\n",
      "2    1.71      0    1       8.5    1\n",
      "3    1.58      1    1       6.3    1\n",
      "4    1.68      0    1       5.1    0\n",
      "5    1.63      1    0       5.3    1\n",
      "6    1.78      0    0       4.5    0\n",
      "7    1.64      0    0       7.8    2\n"
     ]
    }
   ],
   "source": [
    "df = pd.read_csv(\"Sklearntest.csv\")\n",
    "train = df.query(\"is_date!=-1\")\n",
    "test = df.query(\"is_date==-1\")\n",
    "y_train = train[\"is_date\"]\n",
    "x_train = train.drop([\"is_date\"], axis = 1)\n",
    "print(y_train)\n",
    "print(x_train)\n",
    "y_test = test[\"is_date\"]\n",
    "x_test = test.drop([\"is_date\"], axis = 1)"
   ]
  },
  {
   "cell_type": "code",
   "execution_count": 3,
   "id": "8a6ed500",
   "metadata": {},
   "outputs": [
    {
     "data": {
      "text/plain": [
       "DecisionTreeClassifier()"
      ]
     },
     "execution_count": 3,
     "metadata": {},
     "output_type": "execute_result"
    }
   ],
   "source": [
    "dtc = st.DecisionTreeClassifier()\n",
    "dtc.fit(x_train, y_train)"
   ]
  },
  {
   "cell_type": "code",
   "execution_count": 4,
   "id": "2773576f",
   "metadata": {},
   "outputs": [
    {
     "name": "stdout",
     "output_type": "stream",
     "text": [
      "[1]\n"
     ]
    }
   ],
   "source": [
    "y_pred=dtc.predict(x_test)\n",
    "print (y_pred)"
   ]
  }
 ],
 "metadata": {
  "kernelspec": {
   "display_name": "Python 3 (ipykernel)",
   "language": "python",
   "name": "python3"
  },
  "language_info": {
   "codemirror_mode": {
    "name": "ipython",
    "version": 3
   },
   "file_extension": ".py",
   "mimetype": "text/x-python",
   "name": "python",
   "nbconvert_exporter": "python",
   "pygments_lexer": "ipython3",
   "version": "3.9.12"
  }
 },
 "nbformat": 4,
 "nbformat_minor": 5
}
